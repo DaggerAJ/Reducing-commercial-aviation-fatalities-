{
  "nbformat": 4,
  "nbformat_minor": 0,
  "metadata": {
    "colab": {
      "name": "RCAF 3 func.ipynb",
      "provenance": [],
      "collapsed_sections": [],
      "machine_shape": "hm"
    },
    "kernelspec": {
      "name": "python3",
      "display_name": "Python 3"
    }
  },
  "cells": [
    {
      "cell_type": "code",
      "metadata": {
        "colab": {
          "base_uri": "https://localhost:8080/"
        },
        "id": "LBydkogMfACH",
        "outputId": "280cbaa6-8e84-4f4a-98b8-450204472d45"
      },
      "source": [
        "!curl --header \"Host: storage.googleapis.com\" --header \"User-Agent: Mozilla/5.0 (Windows NT 10.0; Win64; x64) AppleWebKit/537.36 (KHTML, like Gecko) Chrome/90.0.4430.85 Safari/537.36 Edg/90.0.818.46\" --header \"Accept: text/html,application/xhtml+xml,application/xml;q=0.9,image/webp,image/apng,*/*;q=0.8,application/signed-exchange;v=b3;q=0.9\" --header \"Accept-Language: en-US,en;q=0.9\" --header \"Referer: https://www.kaggle.com/\" \"https://storage.googleapis.com/kaggle-competitions-data/kaggle-v2/11835/224935/compressed/train.csv.zip?GoogleAccessId=web-data@kaggle-161607.iam.gserviceaccount.com&Expires=1619508585&Signature=amzijC5XFZtdstk4fvw2L%2FoGQniPopEsN4E1clcp4FNiHvbbRi4LS5VXz%2FC8kpPcK0AVm8wW6prvtVEFfnzb9%2FtflukQU77uUdBXf8qWM82%2BBSF8fJyD0Yl6vL42IVKFIUa0i9wDzHnrnFDXerDJYy452%2BK3cnO5xW4SZRHBFhJzMEzED1cTnK%2BX2gdZCDEG3z%2Baos0K7Sw8gj%2FY7jYj5vjYki7hT5BenuKyuu3cXPfNINmhsGYFHY6bwsP1craa0AojXvUzwwHB6NEdV%2B4EexfjM3Ut7t0IQ6ktq7WJYm6SrzdsdNqCbzp5sECx2ngNKhPFezSl1G%2FzSHQn7dtkSw%3D%3D&response-content-disposition=attachment%3B+filename%3Dtrain.csv.zip\" -L -o \"train.csv.zip\""
      ],
      "execution_count": 2,
      "outputs": [
        {
          "output_type": "stream",
          "text": [
            "  % Total    % Received % Xferd  Average Speed   Time    Time     Time  Current\n",
            "                                 Dload  Upload   Total   Spent    Left  Speed\n",
            "100  435M  100  435M    0     0  24.2M      0  0:00:17  0:00:17 --:--:-- 28.2M\n"
          ],
          "name": "stdout"
        }
      ]
    },
    {
      "cell_type": "code",
      "metadata": {
        "colab": {
          "base_uri": "https://localhost:8080/"
        },
        "id": "jBgZiqlzdq1a",
        "outputId": "7feeab0b-ee7f-412e-ed68-8de6e400912f"
      },
      "source": [
        "!unzip '/content/train.csv.zip'"
      ],
      "execution_count": 3,
      "outputs": [
        {
          "output_type": "stream",
          "text": [
            "Archive:  /content/train.csv.zip\n",
            "  inflating: train.csv               \n"
          ],
          "name": "stdout"
        }
      ]
    },
    {
      "cell_type": "code",
      "metadata": {
        "id": "Y89hGJhDY4pK"
      },
      "source": [
        "import pandas as pd\n",
        "from flask import Flask, render_template,request\n",
        "import pickle\n",
        "import matplotlib.pyplot as plt\n",
        "import seaborn as sns\n",
        "import numpy as np\n",
        "from sklearn.preprocessing import MinMaxScaler\n",
        "scaler = MinMaxScaler()\n",
        "from sklearn.model_selection import train_test_split\n",
        "from sklearn.datasets import make_classification\n",
        "\n",
        "\n",
        "from tensorflow.keras.models import Model\n",
        "from tensorflow.keras.layers import Input\n",
        "from tensorflow.keras.layers import Dense\n",
        "\n",
        "from tensorflow.keras.utils import plot_model\n",
        "import timeit\n",
        "import joblib\n",
        "\n",
        "\n",
        "import tensorflow as tf\n",
        "from tensorflow import keras\n",
        "from tensorflow.keras import layers\n",
        "from tensorflow.keras.models import load_model\n",
        "from sklearn.metrics import log_loss\n",
        "import scipy.signal as signal\n",
        "\n",
        "import pickle\n",
        "import lightgbm\n",
        "from lightgbm import LGBMClassifier"
      ],
      "execution_count": 4,
      "outputs": []
    },
    {
      "cell_type": "code",
      "metadata": {
        "id": "nwb_X-k6B6hy",
        "colab": {
          "base_uri": "https://localhost:8080/"
        },
        "outputId": "c98562e8-1f13-4cf4-9590-7d0499be455e"
      },
      "source": [
        "print(tf.__version__)"
      ],
      "execution_count": null,
      "outputs": [
        {
          "output_type": "stream",
          "text": [
            "2.4.1\n"
          ],
          "name": "stdout"
        }
      ]
    },
    {
      "cell_type": "code",
      "metadata": {
        "id": "eRuJLChzeGqQ"
      },
      "source": [
        "df= pd.read_csv('train.csv')"
      ],
      "execution_count": 5,
      "outputs": []
    },
    {
      "cell_type": "code",
      "metadata": {
        "id": "fFoWVs6-gPGF",
        "colab": {
          "base_uri": "https://localhost:8080/",
          "height": 422
        },
        "outputId": "11913d65-df77-4d7a-d2c7-0afe7c774f99"
      },
      "source": [
        "df"
      ],
      "execution_count": null,
      "outputs": [
        {
          "output_type": "execute_result",
          "data": {
            "text/html": [
              "<div>\n",
              "<style scoped>\n",
              "    .dataframe tbody tr th:only-of-type {\n",
              "        vertical-align: middle;\n",
              "    }\n",
              "\n",
              "    .dataframe tbody tr th {\n",
              "        vertical-align: top;\n",
              "    }\n",
              "\n",
              "    .dataframe thead th {\n",
              "        text-align: right;\n",
              "    }\n",
              "</style>\n",
              "<table border=\"1\" class=\"dataframe\">\n",
              "  <thead>\n",
              "    <tr style=\"text-align: right;\">\n",
              "      <th></th>\n",
              "      <th>crew</th>\n",
              "      <th>experiment</th>\n",
              "      <th>time</th>\n",
              "      <th>seat</th>\n",
              "      <th>eeg_fp1</th>\n",
              "      <th>eeg_f7</th>\n",
              "      <th>eeg_f8</th>\n",
              "      <th>eeg_t4</th>\n",
              "      <th>eeg_t6</th>\n",
              "      <th>eeg_t5</th>\n",
              "      <th>eeg_t3</th>\n",
              "      <th>eeg_fp2</th>\n",
              "      <th>eeg_o1</th>\n",
              "      <th>eeg_p3</th>\n",
              "      <th>eeg_pz</th>\n",
              "      <th>eeg_f3</th>\n",
              "      <th>eeg_fz</th>\n",
              "      <th>eeg_f4</th>\n",
              "      <th>eeg_c4</th>\n",
              "      <th>eeg_p4</th>\n",
              "      <th>eeg_poz</th>\n",
              "      <th>eeg_c3</th>\n",
              "      <th>eeg_cz</th>\n",
              "      <th>eeg_o2</th>\n",
              "      <th>ecg</th>\n",
              "      <th>r</th>\n",
              "      <th>gsr</th>\n",
              "      <th>event</th>\n",
              "    </tr>\n",
              "  </thead>\n",
              "  <tbody>\n",
              "    <tr>\n",
              "      <th>0</th>\n",
              "      <td>1</td>\n",
              "      <td>CA</td>\n",
              "      <td>0.011719</td>\n",
              "      <td>1</td>\n",
              "      <td>0.387046</td>\n",
              "      <td>0.428686</td>\n",
              "      <td>0.424623</td>\n",
              "      <td>0.459177</td>\n",
              "      <td>0.593822</td>\n",
              "      <td>0.496168</td>\n",
              "      <td>0.399734</td>\n",
              "      <td>0.356938</td>\n",
              "      <td>0.590240</td>\n",
              "      <td>0.591297</td>\n",
              "      <td>0.521062</td>\n",
              "      <td>0.540994</td>\n",
              "      <td>0.509697</td>\n",
              "      <td>0.535817</td>\n",
              "      <td>0.612048</td>\n",
              "      <td>0.593882</td>\n",
              "      <td>0.396459</td>\n",
              "      <td>0.593875</td>\n",
              "      <td>0.472502</td>\n",
              "      <td>0.326867</td>\n",
              "      <td>0.274755</td>\n",
              "      <td>0.931052</td>\n",
              "      <td>0.223995</td>\n",
              "      <td>A</td>\n",
              "    </tr>\n",
              "    <tr>\n",
              "      <th>1</th>\n",
              "      <td>1</td>\n",
              "      <td>CA</td>\n",
              "      <td>0.015625</td>\n",
              "      <td>1</td>\n",
              "      <td>0.387816</td>\n",
              "      <td>0.428217</td>\n",
              "      <td>0.425544</td>\n",
              "      <td>0.461508</td>\n",
              "      <td>0.594570</td>\n",
              "      <td>0.495628</td>\n",
              "      <td>0.399418</td>\n",
              "      <td>0.357056</td>\n",
              "      <td>0.590406</td>\n",
              "      <td>0.591238</td>\n",
              "      <td>0.521884</td>\n",
              "      <td>0.540561</td>\n",
              "      <td>0.509989</td>\n",
              "      <td>0.536029</td>\n",
              "      <td>0.605679</td>\n",
              "      <td>0.594738</td>\n",
              "      <td>0.396818</td>\n",
              "      <td>0.593614</td>\n",
              "      <td>0.473759</td>\n",
              "      <td>0.327722</td>\n",
              "      <td>0.274762</td>\n",
              "      <td>0.931066</td>\n",
              "      <td>0.223989</td>\n",
              "      <td>A</td>\n",
              "    </tr>\n",
              "    <tr>\n",
              "      <th>2</th>\n",
              "      <td>1</td>\n",
              "      <td>CA</td>\n",
              "      <td>0.019531</td>\n",
              "      <td>1</td>\n",
              "      <td>0.388530</td>\n",
              "      <td>0.427731</td>\n",
              "      <td>0.426408</td>\n",
              "      <td>0.463713</td>\n",
              "      <td>0.595288</td>\n",
              "      <td>0.495078</td>\n",
              "      <td>0.399095</td>\n",
              "      <td>0.357173</td>\n",
              "      <td>0.590547</td>\n",
              "      <td>0.591158</td>\n",
              "      <td>0.522664</td>\n",
              "      <td>0.540101</td>\n",
              "      <td>0.510273</td>\n",
              "      <td>0.536215</td>\n",
              "      <td>0.599616</td>\n",
              "      <td>0.595534</td>\n",
              "      <td>0.397132</td>\n",
              "      <td>0.593335</td>\n",
              "      <td>0.474812</td>\n",
              "      <td>0.328513</td>\n",
              "      <td>0.274775</td>\n",
              "      <td>0.931093</td>\n",
              "      <td>0.223977</td>\n",
              "      <td>A</td>\n",
              "    </tr>\n",
              "    <tr>\n",
              "      <th>3</th>\n",
              "      <td>1</td>\n",
              "      <td>CA</td>\n",
              "      <td>0.023438</td>\n",
              "      <td>1</td>\n",
              "      <td>0.389144</td>\n",
              "      <td>0.427218</td>\n",
              "      <td>0.427171</td>\n",
              "      <td>0.465683</td>\n",
              "      <td>0.595944</td>\n",
              "      <td>0.494518</td>\n",
              "      <td>0.398760</td>\n",
              "      <td>0.357291</td>\n",
              "      <td>0.590642</td>\n",
              "      <td>0.591036</td>\n",
              "      <td>0.523356</td>\n",
              "      <td>0.539596</td>\n",
              "      <td>0.510544</td>\n",
              "      <td>0.536355</td>\n",
              "      <td>0.594118</td>\n",
              "      <td>0.596210</td>\n",
              "      <td>0.397364</td>\n",
              "      <td>0.593024</td>\n",
              "      <td>0.475491</td>\n",
              "      <td>0.329185</td>\n",
              "      <td>0.274795</td>\n",
              "      <td>0.931133</td>\n",
              "      <td>0.223959</td>\n",
              "      <td>A</td>\n",
              "    </tr>\n",
              "    <tr>\n",
              "      <th>4</th>\n",
              "      <td>1</td>\n",
              "      <td>CA</td>\n",
              "      <td>0.027344</td>\n",
              "      <td>1</td>\n",
              "      <td>0.389635</td>\n",
              "      <td>0.426676</td>\n",
              "      <td>0.427806</td>\n",
              "      <td>0.467343</td>\n",
              "      <td>0.596511</td>\n",
              "      <td>0.493945</td>\n",
              "      <td>0.398411</td>\n",
              "      <td>0.357422</td>\n",
              "      <td>0.590675</td>\n",
              "      <td>0.590860</td>\n",
              "      <td>0.523915</td>\n",
              "      <td>0.539038</td>\n",
              "      <td>0.510799</td>\n",
              "      <td>0.536445</td>\n",
              "      <td>0.589394</td>\n",
              "      <td>0.596721</td>\n",
              "      <td>0.397488</td>\n",
              "      <td>0.592672</td>\n",
              "      <td>0.475655</td>\n",
              "      <td>0.329700</td>\n",
              "      <td>0.274822</td>\n",
              "      <td>0.931187</td>\n",
              "      <td>0.223935</td>\n",
              "      <td>A</td>\n",
              "    </tr>\n",
              "    <tr>\n",
              "      <th>...</th>\n",
              "      <td>...</td>\n",
              "      <td>...</td>\n",
              "      <td>...</td>\n",
              "      <td>...</td>\n",
              "      <td>...</td>\n",
              "      <td>...</td>\n",
              "      <td>...</td>\n",
              "      <td>...</td>\n",
              "      <td>...</td>\n",
              "      <td>...</td>\n",
              "      <td>...</td>\n",
              "      <td>...</td>\n",
              "      <td>...</td>\n",
              "      <td>...</td>\n",
              "      <td>...</td>\n",
              "      <td>...</td>\n",
              "      <td>...</td>\n",
              "      <td>...</td>\n",
              "      <td>...</td>\n",
              "      <td>...</td>\n",
              "      <td>...</td>\n",
              "      <td>...</td>\n",
              "      <td>...</td>\n",
              "      <td>...</td>\n",
              "      <td>...</td>\n",
              "      <td>...</td>\n",
              "      <td>...</td>\n",
              "      <td>...</td>\n",
              "    </tr>\n",
              "    <tr>\n",
              "      <th>4867416</th>\n",
              "      <td>13</td>\n",
              "      <td>SS</td>\n",
              "      <td>99.991005</td>\n",
              "      <td>1</td>\n",
              "      <td>0.368885</td>\n",
              "      <td>0.393428</td>\n",
              "      <td>0.430548</td>\n",
              "      <td>0.459547</td>\n",
              "      <td>0.559941</td>\n",
              "      <td>0.462079</td>\n",
              "      <td>0.380862</td>\n",
              "      <td>0.349070</td>\n",
              "      <td>0.577352</td>\n",
              "      <td>0.565839</td>\n",
              "      <td>0.516981</td>\n",
              "      <td>0.492618</td>\n",
              "      <td>0.505243</td>\n",
              "      <td>0.532493</td>\n",
              "      <td>0.597277</td>\n",
              "      <td>0.588011</td>\n",
              "      <td>0.383877</td>\n",
              "      <td>0.576525</td>\n",
              "      <td>0.460367</td>\n",
              "      <td>0.318230</td>\n",
              "      <td>0.165976</td>\n",
              "      <td>0.616414</td>\n",
              "      <td>0.345512</td>\n",
              "      <td>A</td>\n",
              "    </tr>\n",
              "    <tr>\n",
              "      <th>4867417</th>\n",
              "      <td>13</td>\n",
              "      <td>SS</td>\n",
              "      <td>99.993004</td>\n",
              "      <td>0</td>\n",
              "      <td>0.371975</td>\n",
              "      <td>0.394283</td>\n",
              "      <td>0.429593</td>\n",
              "      <td>0.461101</td>\n",
              "      <td>0.558719</td>\n",
              "      <td>0.462978</td>\n",
              "      <td>0.382964</td>\n",
              "      <td>0.350945</td>\n",
              "      <td>0.578645</td>\n",
              "      <td>0.568777</td>\n",
              "      <td>0.517968</td>\n",
              "      <td>0.500426</td>\n",
              "      <td>0.505792</td>\n",
              "      <td>0.532578</td>\n",
              "      <td>0.591541</td>\n",
              "      <td>0.587921</td>\n",
              "      <td>0.385991</td>\n",
              "      <td>0.577562</td>\n",
              "      <td>0.465460</td>\n",
              "      <td>0.319325</td>\n",
              "      <td>0.173328</td>\n",
              "      <td>0.639896</td>\n",
              "      <td>0.349876</td>\n",
              "      <td>A</td>\n",
              "    </tr>\n",
              "    <tr>\n",
              "      <th>4867418</th>\n",
              "      <td>13</td>\n",
              "      <td>SS</td>\n",
              "      <td>99.994003</td>\n",
              "      <td>1</td>\n",
              "      <td>0.375441</td>\n",
              "      <td>0.395206</td>\n",
              "      <td>0.428769</td>\n",
              "      <td>0.463158</td>\n",
              "      <td>0.557608</td>\n",
              "      <td>0.463815</td>\n",
              "      <td>0.385225</td>\n",
              "      <td>0.353016</td>\n",
              "      <td>0.580018</td>\n",
              "      <td>0.571946</td>\n",
              "      <td>0.519002</td>\n",
              "      <td>0.509456</td>\n",
              "      <td>0.506365</td>\n",
              "      <td>0.532612</td>\n",
              "      <td>0.584452</td>\n",
              "      <td>0.587765</td>\n",
              "      <td>0.388243</td>\n",
              "      <td>0.578592</td>\n",
              "      <td>0.470965</td>\n",
              "      <td>0.320423</td>\n",
              "      <td>0.181932</td>\n",
              "      <td>0.667354</td>\n",
              "      <td>0.354979</td>\n",
              "      <td>A</td>\n",
              "    </tr>\n",
              "    <tr>\n",
              "      <th>4867419</th>\n",
              "      <td>13</td>\n",
              "      <td>SS</td>\n",
              "      <td>99.997002</td>\n",
              "      <td>0</td>\n",
              "      <td>0.379141</td>\n",
              "      <td>0.396137</td>\n",
              "      <td>0.428079</td>\n",
              "      <td>0.465587</td>\n",
              "      <td>0.556564</td>\n",
              "      <td>0.464557</td>\n",
              "      <td>0.387590</td>\n",
              "      <td>0.355199</td>\n",
              "      <td>0.581422</td>\n",
              "      <td>0.575204</td>\n",
              "      <td>0.520044</td>\n",
              "      <td>0.519339</td>\n",
              "      <td>0.506937</td>\n",
              "      <td>0.532585</td>\n",
              "      <td>0.576303</td>\n",
              "      <td>0.587529</td>\n",
              "      <td>0.390550</td>\n",
              "      <td>0.579513</td>\n",
              "      <td>0.476647</td>\n",
              "      <td>0.321491</td>\n",
              "      <td>0.191441</td>\n",
              "      <td>0.697692</td>\n",
              "      <td>0.360618</td>\n",
              "      <td>A</td>\n",
              "    </tr>\n",
              "    <tr>\n",
              "      <th>4867420</th>\n",
              "      <td>13</td>\n",
              "      <td>SS</td>\n",
              "      <td>99.998001</td>\n",
              "      <td>1</td>\n",
              "      <td>0.382919</td>\n",
              "      <td>0.397052</td>\n",
              "      <td>0.427499</td>\n",
              "      <td>0.468233</td>\n",
              "      <td>0.555588</td>\n",
              "      <td>0.465199</td>\n",
              "      <td>0.389973</td>\n",
              "      <td>0.357404</td>\n",
              "      <td>0.582812</td>\n",
              "      <td>0.578442</td>\n",
              "      <td>0.521062</td>\n",
              "      <td>0.529622</td>\n",
              "      <td>0.507491</td>\n",
              "      <td>0.532499</td>\n",
              "      <td>0.567526</td>\n",
              "      <td>0.587223</td>\n",
              "      <td>0.392836</td>\n",
              "      <td>0.580336</td>\n",
              "      <td>0.482300</td>\n",
              "      <td>0.322502</td>\n",
              "      <td>0.201402</td>\n",
              "      <td>0.729460</td>\n",
              "      <td>0.366522</td>\n",
              "      <td>A</td>\n",
              "    </tr>\n",
              "  </tbody>\n",
              "</table>\n",
              "<p>4867421 rows × 28 columns</p>\n",
              "</div>"
            ],
            "text/plain": [
              "         crew experiment       time  seat  ...       ecg         r       gsr  event\n",
              "0           1         CA   0.011719     1  ...  0.274755  0.931052  0.223995      A\n",
              "1           1         CA   0.015625     1  ...  0.274762  0.931066  0.223989      A\n",
              "2           1         CA   0.019531     1  ...  0.274775  0.931093  0.223977      A\n",
              "3           1         CA   0.023438     1  ...  0.274795  0.931133  0.223959      A\n",
              "4           1         CA   0.027344     1  ...  0.274822  0.931187  0.223935      A\n",
              "...       ...        ...        ...   ...  ...       ...       ...       ...    ...\n",
              "4867416    13         SS  99.991005     1  ...  0.165976  0.616414  0.345512      A\n",
              "4867417    13         SS  99.993004     0  ...  0.173328  0.639896  0.349876      A\n",
              "4867418    13         SS  99.994003     1  ...  0.181932  0.667354  0.354979      A\n",
              "4867419    13         SS  99.997002     0  ...  0.191441  0.697692  0.360618      A\n",
              "4867420    13         SS  99.998001     1  ...  0.201402  0.729460  0.366522      A\n",
              "\n",
              "[4867421 rows x 28 columns]"
            ]
          },
          "metadata": {
            "tags": []
          },
          "execution_count": 10
        }
      ]
    },
    {
      "cell_type": "code",
      "metadata": {
        "id": "isEKGzrvAN6G"
      },
      "source": [
        "def noise_plus_transform(features,df):\n",
        "    for i in features:\n",
        "        df[i]=noise_removal(df[i],0.1)\n",
        "        df[i]=scaler.fit_transform(df[[i]])\n",
        "    return df"
      ],
      "execution_count": null,
      "outputs": []
    },
    {
      "cell_type": "code",
      "metadata": {
        "id": "0WZ_mTK32lrL"
      },
      "source": [
        "from sklearn.preprocessing import MinMaxScaler\n",
        "scaler = MinMaxScaler()\n",
        "def noise_removal(noisy_data,Wn):\n",
        "    N = 3\n",
        "    B, A = signal.butter(N, Wn)\n",
        "    return signal.lfilter(B,A, noisy_data)\n"
      ],
      "execution_count": null,
      "outputs": []
    },
    {
      "cell_type": "code",
      "metadata": {
        "id": "auO6R7oH2lrM"
      },
      "source": [
        "\n",
        "def noise_plus_transform(features,df):\n",
        "    \n",
        "    for i in features:\n",
        "        df[i]=noise_removal(df[i],0.1)\n",
        "        df[i]=scaler.fit_transform(df[[i]])\n",
        "    return df\n",
        "# noise_plus_transform(df.columns[5:27],df)"
      ],
      "execution_count": null,
      "outputs": []
    },
    {
      "cell_type": "code",
      "metadata": {
        "id": "s1GhRIg_2lrN"
      },
      "source": [
        "def x_rem_fe(df):\n",
        "\n",
        "  df=df.drop(['experiment','event'],axis=1)\n",
        "#   encoderpl= {'A':0,'B':1,'C':2,'D':3}\n",
        "#   y=df['event'].apply(lambda x: encoderpl[x])\n",
        "\n",
        "  return df\n"
      ],
      "execution_count": null,
      "outputs": []
    },
    {
      "cell_type": "code",
      "metadata": {
        "id": "n67s7gOY2lrO"
      },
      "source": [
        "def auto_encoder(model,df):\n",
        "#     features = [\"eeg_fp1\",\"eeg_f7\",\"eeg_f8\",\"eeg_t4\",\"eeg_t6\",\"eeg_t5\",\"eeg_t3\",\"eeg_fp2\",\"eeg_o1\",\"eeg_p3\",\"eeg_pz\",\"eeg_f3\",\"eeg_fz\",\"eeg_f4\",\"eeg_c4\",\"eeg_p4\",\"eeg_poz\",\"eeg_c3\",\"eeg_cz\",\"eeg_o2\"]\n",
        "\n",
        "    encoder = load_model(model)\n",
        "    X=df[df.columns[4:24]]\n",
        "\n",
        "#     X_train, X_test = train_test_split(X, test_size=0.33, random_state=1)\n",
        "    X_train_encode = encoder.predict(X)\n",
        "  # encode the test data\n",
        "#     X_test_encode = encoder.predict(X_test)\n",
        "#     x_final = np.vstack((X_train_encode ,X_test_encode))\n",
        "    df['eeg_fe_1'] = X_train_encode[:,0]\n",
        "    df['eeg_fe_2'] = X_train_encode[:,1]\n",
        "    df['eeg_fe_3'] = X_train_encode[:,2]\n",
        "    df['eeg_fe_4'] = X_train_encode[:,3]\n",
        "    feats= ['eeg_fe_1','eeg_fe_2','eeg_fe_3','eeg_fe_4']\n",
        "    \n",
        "    noise_plus_transform(feats,df)\n",
        "    \n",
        "    return df\n",
        "\n"
      ],
      "execution_count": null,
      "outputs": []
    },
    {
      "cell_type": "code",
      "metadata": {
        "id": "BXIXmAfa2lrQ"
      },
      "source": [
        "def pipeline(df,autoencoder):\n",
        "    df=noise_plus_transform(df.columns[5:27],df)\n",
        "    df=auto_encoder(autoencoder,df)\n",
        "    df=x_rem_fe(df)\n",
        "    return df"
      ],
      "execution_count": null,
      "outputs": []
    },
    {
      "cell_type": "code",
      "metadata": {
        "id": "y8lp_eGE2lrS"
      },
      "source": [
        "def final_1(df):\n",
        "\n",
        "  pipeline(df,'encoder.h5')\n",
        "  df=df.drop(['experiment','event'],axis=1)\n",
        "  \n",
        "  model = joblib.load('lgbm_model.pkl')\n",
        "  y_test_predictions= model.predict_proba(df)\n",
        "  # y_test_loss =log_loss(y_tests, y_test_predictions)\n",
        "  return y_test_predictions\n",
        "\n",
        "  \n",
        "    \n"
      ],
      "execution_count": null,
      "outputs": []
    },
    {
      "cell_type": "code",
      "metadata": {
        "colab": {
          "base_uri": "https://localhost:8080/"
        },
        "id": "7V06B26o5Mlh",
        "outputId": "16644f6b-d62e-4e32-cf75-831d43d88d2d"
      },
      "source": [
        "predictions=final_1(df)\n",
        "print('The predictions for the data is  ',predictions)"
      ],
      "execution_count": null,
      "outputs": [
        {
          "output_type": "stream",
          "text": [
            "WARNING:tensorflow:No training configuration found in the save file, so the model was *not* compiled. Compile it manually.\n",
            "The predictions for the data is   [[0.60555458 0.02161086 0.31501773 0.05781683]\n",
            " [0.60556859 0.02161132 0.31500504 0.05781506]\n",
            " [0.60560536 0.02161252 0.31497161 0.05781051]\n",
            " ...\n",
            " [0.60138334 0.02490696 0.3265481  0.04716159]\n",
            " [0.60130447 0.02490778 0.32662999 0.04715776]\n",
            " [0.60123095 0.02490841 0.326706   0.04715464]]\n"
          ],
          "name": "stdout"
        }
      ]
    },
    {
      "cell_type": "code",
      "metadata": {
        "id": "u07xyNAzGO7S"
      },
      "source": [
        "def final_2(df):\n",
        "  start = timeit.timeit()\n",
        "  # df=reduce_mem_usage(df)\n",
        "\n",
        "  features=['r','gsr','ecg','eeg_fp1',\"eeg_f7\",\"eeg_f8\",\"eeg_t4\",\"eeg_t6\",\"eeg_t5\",\"eeg_t3\",\"eeg_fp2\",\"eeg_o1\",\"eeg_p3\",\"eeg_pz\",\"eeg_f3\",\"eeg_fz\",\"eeg_f4\",\"eeg_c4\",\"eeg_p4\",\"eeg_poz\",\"eeg_c3\",\"eeg_cz\",\"eeg_o2\"]\n",
        "  for i in features:\n",
        "    df[i]=noise_removal(df[i],0.1)\n",
        "    df[i]=scaler.fit_transform(df[[i]])\n",
        "  \n",
        "  features = [\"eeg_fp1\",\"eeg_f7\",\"eeg_f8\",\"eeg_t4\",\"eeg_t6\",\"eeg_t5\",\"eeg_t3\",\"eeg_fp2\",\"eeg_o1\",\"eeg_p3\",\"eeg_pz\",\"eeg_f3\",\"eeg_fz\",\"eeg_f4\",\"eeg_c4\",\"eeg_p4\",\"eeg_poz\",\"eeg_c3\",\"eeg_cz\",\"eeg_o2\"]\n",
        "  X=df[features]\n",
        "  encoder= {'A':0,'B':1,'C':2,'D':3}\n",
        "  y=df['event'].apply(lambda x: encoder[x])\n",
        "  X_train, X_test, y_train, y_test = train_test_split(X, y, test_size=0.33, random_state=1)\n",
        "  encoder = load_model('/content/encoder.h5')\n",
        "  # encode the train data\n",
        "  X_train_encode = encoder.predict(X_train)\n",
        "  # encode the test data\n",
        "  X_test_encode = encoder.predict(X_test)\n",
        "  x_final = np.vstack((X_train_encode ,X_test_encode))\n",
        "  df['eeg_fe_1'] = x_final[:,0]\n",
        "  df['eeg_fe_2'] = x_final[:,1]\n",
        "  df['eeg_fe_3'] = x_final[:,2]\n",
        "  df['eeg_fe_4'] = x_final[:,3]\n",
        "  feats= ['eeg_fe_1','eeg_fe_2','eeg_fe_3','eeg_fe_4']\n",
        "  for i in feats:\n",
        "    df[i]=scaler.fit_transform(df[[i]])\n",
        "  x=df.drop(['experiment','event'],axis=1)\n",
        "  X_trains, X_tests, y_trains, y_tests = train_test_split(x, y, test_size=0.33, random_state=1)\n",
        "  Log_reg=pickle.load(open('lgbm_load','rb'))\n",
        "  y_test_predictions= Log_reg.predict_proba(X_tests)\n",
        "  y_test_loss =log_loss(y_tests, y_test_predictions) \n",
        "  end = timeit.timeit()\n",
        "  time=end-start\n",
        "  \n",
        "  return y_test_predictions,y_test_loss,time\n",
        "\n",
        "\n",
        "\n",
        "\n",
        "  "
      ],
      "execution_count": null,
      "outputs": []
    },
    {
      "cell_type": "code",
      "metadata": {
        "colab": {
          "base_uri": "https://localhost:8080/"
        },
        "id": "pr7fVrnaGR3g",
        "outputId": "908255fa-ae3a-4b32-bae7-edfdd67e3ef7"
      },
      "source": [
        "y_test_predictions,y_test_loss,time=final_2(df)\n",
        "print(\"Time Taken\",time)\n",
        "print('Predicted state :',y_test_predictions[0])\n",
        "print('Evaluation Metric log loss :',y_test_loss)\n"
      ],
      "execution_count": null,
      "outputs": [
        {
          "output_type": "stream",
          "text": [
            "WARNING:tensorflow:No training configuration found in the save file, so the model was *not* compiled. Compile it manually.\n",
            "Time Taken -0.0010004370005844976\n",
            "Predicted state : [0.60451471 0.02434449 0.3207837  0.05035709]\n",
            "Evaluation Metric log loss : 0.9082386224277207\n"
          ],
          "name": "stdout"
        }
      ]
    },
    {
      "cell_type": "markdown",
      "metadata": {
        "id": "7Mabgf8N5KU7"
      },
      "source": [
        "![Screenshot (34).png](data:image/png;base64,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)"
      ]
    }
  ]
}